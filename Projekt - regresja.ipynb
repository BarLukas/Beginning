{
 "cells": [
  {
   "cell_type": "markdown",
   "id": "20d67429",
   "metadata": {},
   "source": [
    "# Projekt praktyczny - regresja"
   ]
  },
  {
   "cell_type": "markdown",
   "id": "7ec9f6db",
   "metadata": {},
   "source": [
    "Na start muszę zaimportować następujące biblioteki."
   ]
  },
  {
   "cell_type": "code",
   "execution_count": 565,
   "id": "cbc66529",
   "metadata": {},
   "outputs": [],
   "source": [
    "import pandas as pd\n",
    "import numpy as np\n",
    "import matplotlib.pyplot as plt\n",
    "import seaborn as sns\n",
    "from sklearn.linear_model import LinearRegression\n",
    "from sklearn.model_selection import train_test_split\n",
    "from sklearn.preprocessing import PolynomialFeatures\n",
    "import sklearn.metrics as metrics"
   ]
  },
  {
   "cell_type": "markdown",
   "id": "2eff946b",
   "metadata": {},
   "source": [
    "Wczytuję bazę danych do pandas Dataframe."
   ]
  },
  {
   "cell_type": "code",
   "execution_count": 566,
   "id": "c6e3bc49",
   "metadata": {},
   "outputs": [
    {
     "data": {
      "text/html": [
       "<div>\n",
       "<style scoped>\n",
       "    .dataframe tbody tr th:only-of-type {\n",
       "        vertical-align: middle;\n",
       "    }\n",
       "\n",
       "    .dataframe tbody tr th {\n",
       "        vertical-align: top;\n",
       "    }\n",
       "\n",
       "    .dataframe thead th {\n",
       "        text-align: right;\n",
       "    }\n",
       "</style>\n",
       "<table border=\"1\" class=\"dataframe\">\n",
       "  <thead>\n",
       "    <tr style=\"text-align: right;\">\n",
       "      <th></th>\n",
       "      <th>Unnamed: 0</th>\n",
       "      <th>Date</th>\n",
       "      <th>Day</th>\n",
       "      <th>High Temp (°F)</th>\n",
       "      <th>Low Temp (°F)</th>\n",
       "      <th>Precipitation</th>\n",
       "      <th>Brooklyn Bridge</th>\n",
       "      <th>Manhattan Bridge</th>\n",
       "      <th>Williamsburg Bridge</th>\n",
       "      <th>Queensboro Bridge</th>\n",
       "      <th>Total</th>\n",
       "    </tr>\n",
       "  </thead>\n",
       "  <tbody>\n",
       "    <tr>\n",
       "      <th>0</th>\n",
       "      <td>0</td>\n",
       "      <td>2016-04-01 00:00:00</td>\n",
       "      <td>2016-04-01 00:00:00</td>\n",
       "      <td>78.1</td>\n",
       "      <td>66.0</td>\n",
       "      <td>0.01</td>\n",
       "      <td>1704.0</td>\n",
       "      <td>3126</td>\n",
       "      <td>4115.0</td>\n",
       "      <td>2552.0</td>\n",
       "      <td>11497</td>\n",
       "    </tr>\n",
       "    <tr>\n",
       "      <th>1</th>\n",
       "      <td>1</td>\n",
       "      <td>2016-04-02 00:00:00</td>\n",
       "      <td>2016-04-02 00:00:00</td>\n",
       "      <td>55.0</td>\n",
       "      <td>48.9</td>\n",
       "      <td>0.15</td>\n",
       "      <td>827.0</td>\n",
       "      <td>1646</td>\n",
       "      <td>2565.0</td>\n",
       "      <td>1884.0</td>\n",
       "      <td>6922</td>\n",
       "    </tr>\n",
       "    <tr>\n",
       "      <th>2</th>\n",
       "      <td>2</td>\n",
       "      <td>2016-04-03 00:00:00</td>\n",
       "      <td>2016-04-03 00:00:00</td>\n",
       "      <td>39.9</td>\n",
       "      <td>34.0</td>\n",
       "      <td>0.09</td>\n",
       "      <td>526.0</td>\n",
       "      <td>1232</td>\n",
       "      <td>1695.0</td>\n",
       "      <td>1306.0</td>\n",
       "      <td>4759</td>\n",
       "    </tr>\n",
       "    <tr>\n",
       "      <th>3</th>\n",
       "      <td>3</td>\n",
       "      <td>2016-04-04 00:00:00</td>\n",
       "      <td>2016-04-04 00:00:00</td>\n",
       "      <td>44.1</td>\n",
       "      <td>33.1</td>\n",
       "      <td>0.47 (S)</td>\n",
       "      <td>521.0</td>\n",
       "      <td>1067</td>\n",
       "      <td>1440.0</td>\n",
       "      <td>1307.0</td>\n",
       "      <td>4335</td>\n",
       "    </tr>\n",
       "    <tr>\n",
       "      <th>4</th>\n",
       "      <td>4</td>\n",
       "      <td>2016-04-05 00:00:00</td>\n",
       "      <td>2016-04-05 00:00:00</td>\n",
       "      <td>42.1</td>\n",
       "      <td>26.1</td>\n",
       "      <td>0</td>\n",
       "      <td>1416.0</td>\n",
       "      <td>2617</td>\n",
       "      <td>3081.0</td>\n",
       "      <td>2357.0</td>\n",
       "      <td>9471</td>\n",
       "    </tr>\n",
       "    <tr>\n",
       "      <th>...</th>\n",
       "      <td>...</td>\n",
       "      <td>...</td>\n",
       "      <td>...</td>\n",
       "      <td>...</td>\n",
       "      <td>...</td>\n",
       "      <td>...</td>\n",
       "      <td>...</td>\n",
       "      <td>...</td>\n",
       "      <td>...</td>\n",
       "      <td>...</td>\n",
       "      <td>...</td>\n",
       "    </tr>\n",
       "    <tr>\n",
       "      <th>205</th>\n",
       "      <td>205</td>\n",
       "      <td>2016-04-26 00:00:00</td>\n",
       "      <td>2016-04-26 00:00:00</td>\n",
       "      <td>60.1</td>\n",
       "      <td>46.9</td>\n",
       "      <td>0.24</td>\n",
       "      <td>1997.0</td>\n",
       "      <td>3520</td>\n",
       "      <td>4559.0</td>\n",
       "      <td>2929.0</td>\n",
       "      <td>13005</td>\n",
       "    </tr>\n",
       "    <tr>\n",
       "      <th>206</th>\n",
       "      <td>206</td>\n",
       "      <td>2016-04-27 00:00:00</td>\n",
       "      <td>2016-04-27 00:00:00</td>\n",
       "      <td>62.1</td>\n",
       "      <td>46.9</td>\n",
       "      <td>0</td>\n",
       "      <td>3343.0</td>\n",
       "      <td>5606</td>\n",
       "      <td>6577.0</td>\n",
       "      <td>4388.0</td>\n",
       "      <td>19914</td>\n",
       "    </tr>\n",
       "    <tr>\n",
       "      <th>207</th>\n",
       "      <td>207</td>\n",
       "      <td>2016-04-28 00:00:00</td>\n",
       "      <td>2016-04-28 00:00:00</td>\n",
       "      <td>57.9</td>\n",
       "      <td>48.0</td>\n",
       "      <td>0</td>\n",
       "      <td>2486.0</td>\n",
       "      <td>4152</td>\n",
       "      <td>5336.0</td>\n",
       "      <td>3657.0</td>\n",
       "      <td>15631</td>\n",
       "    </tr>\n",
       "    <tr>\n",
       "      <th>208</th>\n",
       "      <td>208</td>\n",
       "      <td>2016-04-29 00:00:00</td>\n",
       "      <td>2016-04-29 00:00:00</td>\n",
       "      <td>57.0</td>\n",
       "      <td>46.9</td>\n",
       "      <td>0.05</td>\n",
       "      <td>2375.0</td>\n",
       "      <td>4178</td>\n",
       "      <td>5053.0</td>\n",
       "      <td>3348.0</td>\n",
       "      <td>14954</td>\n",
       "    </tr>\n",
       "    <tr>\n",
       "      <th>209</th>\n",
       "      <td>209</td>\n",
       "      <td>2016-04-30 00:00:00</td>\n",
       "      <td>2016-04-30 00:00:00</td>\n",
       "      <td>64.0</td>\n",
       "      <td>48.0</td>\n",
       "      <td>0</td>\n",
       "      <td>3199.0</td>\n",
       "      <td>4952</td>\n",
       "      <td>5675.0</td>\n",
       "      <td>3606.0</td>\n",
       "      <td>17432</td>\n",
       "    </tr>\n",
       "  </tbody>\n",
       "</table>\n",
       "<p>210 rows × 11 columns</p>\n",
       "</div>"
      ],
      "text/plain": [
       "     Unnamed: 0                 Date                  Day  High Temp (°F)  \\\n",
       "0             0  2016-04-01 00:00:00  2016-04-01 00:00:00            78.1   \n",
       "1             1  2016-04-02 00:00:00  2016-04-02 00:00:00            55.0   \n",
       "2             2  2016-04-03 00:00:00  2016-04-03 00:00:00            39.9   \n",
       "3             3  2016-04-04 00:00:00  2016-04-04 00:00:00            44.1   \n",
       "4             4  2016-04-05 00:00:00  2016-04-05 00:00:00            42.1   \n",
       "..          ...                  ...                  ...             ...   \n",
       "205         205  2016-04-26 00:00:00  2016-04-26 00:00:00            60.1   \n",
       "206         206  2016-04-27 00:00:00  2016-04-27 00:00:00            62.1   \n",
       "207         207  2016-04-28 00:00:00  2016-04-28 00:00:00            57.9   \n",
       "208         208  2016-04-29 00:00:00  2016-04-29 00:00:00            57.0   \n",
       "209         209  2016-04-30 00:00:00  2016-04-30 00:00:00            64.0   \n",
       "\n",
       "     Low Temp (°F) Precipitation  Brooklyn Bridge  Manhattan Bridge  \\\n",
       "0             66.0          0.01           1704.0              3126   \n",
       "1             48.9          0.15            827.0              1646   \n",
       "2             34.0          0.09            526.0              1232   \n",
       "3             33.1      0.47 (S)            521.0              1067   \n",
       "4             26.1             0           1416.0              2617   \n",
       "..             ...           ...              ...               ...   \n",
       "205           46.9          0.24           1997.0              3520   \n",
       "206           46.9             0           3343.0              5606   \n",
       "207           48.0             0           2486.0              4152   \n",
       "208           46.9          0.05           2375.0              4178   \n",
       "209           48.0             0           3199.0              4952   \n",
       "\n",
       "     Williamsburg Bridge  Queensboro Bridge  Total  \n",
       "0                 4115.0             2552.0  11497  \n",
       "1                 2565.0             1884.0   6922  \n",
       "2                 1695.0             1306.0   4759  \n",
       "3                 1440.0             1307.0   4335  \n",
       "4                 3081.0             2357.0   9471  \n",
       "..                   ...                ...    ...  \n",
       "205               4559.0             2929.0  13005  \n",
       "206               6577.0             4388.0  19914  \n",
       "207               5336.0             3657.0  15631  \n",
       "208               5053.0             3348.0  14954  \n",
       "209               5675.0             3606.0  17432  \n",
       "\n",
       "[210 rows x 11 columns]"
      ]
     },
     "execution_count": 566,
     "metadata": {},
     "output_type": "execute_result"
    }
   ],
   "source": [
    "file_path = \"nyc-east-river-bicycle-counts.csv\"\n",
    "bikes_df = pd.read_csv(file_path)\n",
    "bikes_df"
   ]
  },
  {
   "cell_type": "markdown",
   "id": "aa0c451b",
   "metadata": {},
   "source": [
    "Jak widać powyżej, jest to baza danych zawierająca ilość przejazdów rowerami przez cztery mosty znajdujące się w New York'u na rzece East River."
   ]
  },
  {
   "cell_type": "markdown",
   "id": "107440b2",
   "metadata": {},
   "source": [
    "Muszę bliżej przyjrzeć sie bazie danych za pomocą niżej wykorzystanych funkcji czy komend."
   ]
  },
  {
   "cell_type": "code",
   "execution_count": 567,
   "id": "df1e2f3d",
   "metadata": {},
   "outputs": [
    {
     "data": {
      "text/plain": [
       "(210, 11)"
      ]
     },
     "execution_count": 567,
     "metadata": {},
     "output_type": "execute_result"
    }
   ],
   "source": [
    "#Sprawdzam kształt danych tabelarycznych\n",
    "bikes_df.shape"
   ]
  },
  {
   "cell_type": "code",
   "execution_count": 568,
   "id": "de1446ae",
   "metadata": {},
   "outputs": [
    {
     "name": "stdout",
     "output_type": "stream",
     "text": [
      "<class 'pandas.core.frame.DataFrame'>\n",
      "RangeIndex: 210 entries, 0 to 209\n",
      "Data columns (total 11 columns):\n",
      " #   Column               Non-Null Count  Dtype  \n",
      "---  ------               --------------  -----  \n",
      " 0   Unnamed: 0           210 non-null    int64  \n",
      " 1   Date                 210 non-null    object \n",
      " 2   Day                  210 non-null    object \n",
      " 3   High Temp (°F)       210 non-null    float64\n",
      " 4   Low Temp (°F)        210 non-null    float64\n",
      " 5   Precipitation        210 non-null    object \n",
      " 6   Brooklyn Bridge      210 non-null    float64\n",
      " 7   Manhattan Bridge     210 non-null    int64  \n",
      " 8   Williamsburg Bridge  210 non-null    float64\n",
      " 9   Queensboro Bridge    210 non-null    float64\n",
      " 10  Total                210 non-null    int64  \n",
      "dtypes: float64(5), int64(3), object(3)\n",
      "memory usage: 18.2+ KB\n"
     ]
    }
   ],
   "source": [
    "#Sprawdzam informacje o bazie danych\n",
    "bikes_df.info()"
   ]
  },
  {
   "cell_type": "markdown",
   "id": "1720f90a",
   "metadata": {},
   "source": [
    "Mozna zauważyć, że baza danych posiada 210 wierszy, jednak data pomiarów to między pierwszym, a trzydziestym kwietnia 2016 roku."
   ]
  },
  {
   "cell_type": "code",
   "execution_count": 569,
   "id": "58f4df44",
   "metadata": {},
   "outputs": [
    {
     "name": "stdout",
     "output_type": "stream",
     "text": [
      "Unnamed: 0 have 210 unique values\n",
      "Date have 30 unique values\n",
      "Day have 30 unique values\n",
      "High Temp (°F) have 21 unique values\n",
      "Low Temp (°F) have 21 unique values\n",
      "Precipitation have 10 unique values\n",
      "Brooklyn Bridge have 30 unique values\n",
      "Manhattan Bridge have 30 unique values\n",
      "Williamsburg Bridge have 30 unique values\n",
      "Queensboro Bridge have 30 unique values\n",
      "Total have 30 unique values\n"
     ]
    }
   ],
   "source": [
    "#Sprawdzam unikalne wartości dla każdej kolumny\n",
    "for i in bikes_df.columns:\n",
    "    print(f\"{i} have {bikes_df[i].nunique()} unique values\")"
   ]
  },
  {
   "cell_type": "code",
   "execution_count": 570,
   "id": "b5c33ebb",
   "metadata": {},
   "outputs": [
    {
     "data": {
      "text/plain": [
       "2016-04-01 00:00:00    7\n",
       "2016-04-02 00:00:00    7\n",
       "2016-04-29 00:00:00    7\n",
       "2016-04-28 00:00:00    7\n",
       "2016-04-27 00:00:00    7\n",
       "2016-04-26 00:00:00    7\n",
       "2016-04-25 00:00:00    7\n",
       "2016-04-24 00:00:00    7\n",
       "2016-04-23 00:00:00    7\n",
       "2016-04-22 00:00:00    7\n",
       "2016-04-21 00:00:00    7\n",
       "2016-04-20 00:00:00    7\n",
       "2016-04-19 00:00:00    7\n",
       "2016-04-18 00:00:00    7\n",
       "2016-04-17 00:00:00    7\n",
       "2016-04-16 00:00:00    7\n",
       "2016-04-15 00:00:00    7\n",
       "2016-04-14 00:00:00    7\n",
       "2016-04-13 00:00:00    7\n",
       "2016-04-12 00:00:00    7\n",
       "2016-04-11 00:00:00    7\n",
       "2016-04-10 00:00:00    7\n",
       "2016-04-09 00:00:00    7\n",
       "2016-04-08 00:00:00    7\n",
       "2016-04-07 00:00:00    7\n",
       "2016-04-06 00:00:00    7\n",
       "2016-04-05 00:00:00    7\n",
       "2016-04-04 00:00:00    7\n",
       "2016-04-03 00:00:00    7\n",
       "2016-04-30 00:00:00    7\n",
       "Name: Date, dtype: int64"
      ]
     },
     "execution_count": 570,
     "metadata": {},
     "output_type": "execute_result"
    }
   ],
   "source": [
    "#Zliczam liczbe unikalnych elementów w kolumnie 'Date' by się upewnić\n",
    "bikes_df['Date'].value_counts()"
   ]
  },
  {
   "cell_type": "code",
   "execution_count": 571,
   "id": "13fbfced",
   "metadata": {},
   "outputs": [
    {
     "data": {
      "text/plain": [
       "1704.0    7\n",
       "827.0     7\n",
       "2375.0    7\n",
       "2486.0    7\n",
       "3343.0    7\n",
       "1997.0    7\n",
       "3463.0    7\n",
       "2798.0    7\n",
       "2055.0    7\n",
       "2975.0    7\n",
       "3436.0    7\n",
       "3450.0    7\n",
       "3501.0    7\n",
       "3871.0    7\n",
       "3147.0    7\n",
       "2384.0    7\n",
       "2770.0    7\n",
       "2861.0    7\n",
       "2840.0    7\n",
       "1045.0    7\n",
       "2005.0    7\n",
       "1447.0    7\n",
       "504.0     7\n",
       "1982.0    7\n",
       "1276.0    7\n",
       "1885.0    7\n",
       "1416.0    7\n",
       "521.0     7\n",
       "526.0     7\n",
       "3199.0    7\n",
       "Name: Brooklyn Bridge, dtype: int64"
      ]
     },
     "execution_count": 571,
     "metadata": {},
     "output_type": "execute_result"
    }
   ],
   "source": [
    "#To samo powtarzam dla kolumny 'Brooklyn Bridge'\n",
    "bikes_df['Brooklyn Bridge'].value_counts()"
   ]
  },
  {
   "cell_type": "markdown",
   "id": "49761292",
   "metadata": {},
   "source": [
    "Przed usunięciem powtarzających sie wierszy, usunę niepotrzebne kolumny 'Unnamed' oraz 'Day'."
   ]
  },
  {
   "cell_type": "code",
   "execution_count": 572,
   "id": "1246acb9",
   "metadata": {},
   "outputs": [],
   "source": [
    "bikes_df.drop('Unnamed: 0', inplace=True, axis=1)\n",
    "bikes_df.drop('Day', inplace=True, axis=1)"
   ]
  },
  {
   "cell_type": "code",
   "execution_count": 573,
   "id": "5bcfd111",
   "metadata": {},
   "outputs": [],
   "source": [
    "#resetowanie indeksu jako kolumnę 'Date' oraz usunięcie niepotrzebych godzin z nazwy kolumny\n",
    "bikes_df = bikes_df.set_index('Date')\n",
    "bikes_df.index = pd.DatetimeIndex(data=bikes_df.index)"
   ]
  },
  {
   "cell_type": "code",
   "execution_count": 574,
   "id": "8f4f4bb2",
   "metadata": {},
   "outputs": [],
   "source": [
    "#Usunięcie zduplikowanych wierszy\n",
    "bikes_df = bikes_df.drop_duplicates()"
   ]
  },
  {
   "cell_type": "code",
   "execution_count": 575,
   "id": "e0ede6ba",
   "metadata": {},
   "outputs": [
    {
     "data": {
      "text/html": [
       "<div>\n",
       "<style scoped>\n",
       "    .dataframe tbody tr th:only-of-type {\n",
       "        vertical-align: middle;\n",
       "    }\n",
       "\n",
       "    .dataframe tbody tr th {\n",
       "        vertical-align: top;\n",
       "    }\n",
       "\n",
       "    .dataframe thead th {\n",
       "        text-align: right;\n",
       "    }\n",
       "</style>\n",
       "<table border=\"1\" class=\"dataframe\">\n",
       "  <thead>\n",
       "    <tr style=\"text-align: right;\">\n",
       "      <th></th>\n",
       "      <th>High Temp (°F)</th>\n",
       "      <th>Low Temp (°F)</th>\n",
       "      <th>Precipitation</th>\n",
       "      <th>Brooklyn Bridge</th>\n",
       "      <th>Manhattan Bridge</th>\n",
       "      <th>Williamsburg Bridge</th>\n",
       "      <th>Queensboro Bridge</th>\n",
       "      <th>Total</th>\n",
       "    </tr>\n",
       "    <tr>\n",
       "      <th>Date</th>\n",
       "      <th></th>\n",
       "      <th></th>\n",
       "      <th></th>\n",
       "      <th></th>\n",
       "      <th></th>\n",
       "      <th></th>\n",
       "      <th></th>\n",
       "      <th></th>\n",
       "    </tr>\n",
       "  </thead>\n",
       "  <tbody>\n",
       "    <tr>\n",
       "      <th>2016-04-01</th>\n",
       "      <td>78.1</td>\n",
       "      <td>66.0</td>\n",
       "      <td>0.01</td>\n",
       "      <td>1704.0</td>\n",
       "      <td>3126</td>\n",
       "      <td>4115.0</td>\n",
       "      <td>2552.0</td>\n",
       "      <td>11497</td>\n",
       "    </tr>\n",
       "    <tr>\n",
       "      <th>2016-04-02</th>\n",
       "      <td>55.0</td>\n",
       "      <td>48.9</td>\n",
       "      <td>0.15</td>\n",
       "      <td>827.0</td>\n",
       "      <td>1646</td>\n",
       "      <td>2565.0</td>\n",
       "      <td>1884.0</td>\n",
       "      <td>6922</td>\n",
       "    </tr>\n",
       "    <tr>\n",
       "      <th>2016-04-03</th>\n",
       "      <td>39.9</td>\n",
       "      <td>34.0</td>\n",
       "      <td>0.09</td>\n",
       "      <td>526.0</td>\n",
       "      <td>1232</td>\n",
       "      <td>1695.0</td>\n",
       "      <td>1306.0</td>\n",
       "      <td>4759</td>\n",
       "    </tr>\n",
       "    <tr>\n",
       "      <th>2016-04-04</th>\n",
       "      <td>44.1</td>\n",
       "      <td>33.1</td>\n",
       "      <td>0.47 (S)</td>\n",
       "      <td>521.0</td>\n",
       "      <td>1067</td>\n",
       "      <td>1440.0</td>\n",
       "      <td>1307.0</td>\n",
       "      <td>4335</td>\n",
       "    </tr>\n",
       "    <tr>\n",
       "      <th>2016-04-05</th>\n",
       "      <td>42.1</td>\n",
       "      <td>26.1</td>\n",
       "      <td>0</td>\n",
       "      <td>1416.0</td>\n",
       "      <td>2617</td>\n",
       "      <td>3081.0</td>\n",
       "      <td>2357.0</td>\n",
       "      <td>9471</td>\n",
       "    </tr>\n",
       "  </tbody>\n",
       "</table>\n",
       "</div>"
      ],
      "text/plain": [
       "            High Temp (°F)  Low Temp (°F) Precipitation  Brooklyn Bridge  \\\n",
       "Date                                                                       \n",
       "2016-04-01            78.1           66.0          0.01           1704.0   \n",
       "2016-04-02            55.0           48.9          0.15            827.0   \n",
       "2016-04-03            39.9           34.0          0.09            526.0   \n",
       "2016-04-04            44.1           33.1      0.47 (S)            521.0   \n",
       "2016-04-05            42.1           26.1             0           1416.0   \n",
       "\n",
       "            Manhattan Bridge  Williamsburg Bridge  Queensboro Bridge  Total  \n",
       "Date                                                                         \n",
       "2016-04-01              3126               4115.0             2552.0  11497  \n",
       "2016-04-02              1646               2565.0             1884.0   6922  \n",
       "2016-04-03              1232               1695.0             1306.0   4759  \n",
       "2016-04-04              1067               1440.0             1307.0   4335  \n",
       "2016-04-05              2617               3081.0             2357.0   9471  "
      ]
     },
     "execution_count": 575,
     "metadata": {},
     "output_type": "execute_result"
    }
   ],
   "source": [
    "bikes_df.head()"
   ]
  },
  {
   "cell_type": "code",
   "execution_count": 576,
   "id": "6091e6f6",
   "metadata": {},
   "outputs": [
    {
     "data": {
      "text/plain": [
       "(30, 8)"
      ]
     },
     "execution_count": 576,
     "metadata": {},
     "output_type": "execute_result"
    }
   ],
   "source": [
    "bikes_df.shape"
   ]
  },
  {
   "cell_type": "markdown",
   "id": "28480c6c",
   "metadata": {},
   "source": [
    "Cofajac sie do tego jak wyświetlałem informacje o bazie danych, widać, że dane związane z ilościa przejazdów przez mosty, zapisane są w zależności od mostu w postaci int64 lub float64. Nie jest to logiczne by przez most mogła przejechać tylko jakaś część roweru czy człowieka. "
   ]
  },
  {
   "cell_type": "code",
   "execution_count": 577,
   "id": "03cb4be1",
   "metadata": {},
   "outputs": [],
   "source": [
    "bikes_df[\"Brooklyn Bridge\"] = bikes_df[\"Brooklyn Bridge\"].astype(\"int64\")\n",
    "bikes_df[\"Williamsburg Bridge\"] = bikes_df[\"Williamsburg Bridge\"].astype(\"int64\")\n",
    "bikes_df[\"Queensboro Bridge\"] = bikes_df[\"Queensboro Bridge\"].astype(\"int64\")"
   ]
  },
  {
   "cell_type": "markdown",
   "id": "b0da3f36",
   "metadata": {},
   "source": [
    "Muszę zająć się również kolumną 'Precipitation', w której nie występują ujednolicone znaki. "
   ]
  },
  {
   "cell_type": "code",
   "execution_count": 578,
   "id": "07fdf59e",
   "metadata": {},
   "outputs": [
    {
     "data": {
      "text/plain": [
       "0           17\n",
       "0.01         3\n",
       "0.09         3\n",
       "0.15         1\n",
       "0.47 (S)     1\n",
       "0.2          1\n",
       "T            1\n",
       "0.16         1\n",
       "0.24         1\n",
       "0.05         1\n",
       "Name: Precipitation, dtype: int64"
      ]
     },
     "execution_count": 578,
     "metadata": {},
     "output_type": "execute_result"
    }
   ],
   "source": [
    "bikes_df['Precipitation'].value_counts()"
   ]
  },
  {
   "cell_type": "code",
   "execution_count": 579,
   "id": "57cd850c",
   "metadata": {},
   "outputs": [],
   "source": [
    "def change_to_float(val):\n",
    "    res = ''.join(c for c in val if ( c.isdigit() or c == '.') )\n",
    "    return float(res) if res != '' else 0.00"
   ]
  },
  {
   "cell_type": "code",
   "execution_count": 580,
   "id": "74e46b60",
   "metadata": {},
   "outputs": [],
   "source": [
    "data = list(bikes_df['Precipitation'])\n",
    "\n",
    "new_data = list()\n",
    "for i, value in enumerate(data):\n",
    "    if value == '0':\n",
    "        new_data.append('Clear')\n",
    "        data[i] = float(data[i])\n",
    "    elif 'S' in value:\n",
    "        new_data.append('Snow')\n",
    "        data[i] = change_to_float(value)\n",
    "    elif 'T' in value:\n",
    "        new_data.append('Trace')\n",
    "        data[i] = change_to_float(value)\n",
    "    else:\n",
    "        new_data.append('Rain')\n",
    "        data[i] = float(data[i])"
   ]
  },
  {
   "cell_type": "code",
   "execution_count": 581,
   "id": "002f5913",
   "metadata": {},
   "outputs": [],
   "source": [
    "bikes_df['Precipitation'] = data"
   ]
  },
  {
   "cell_type": "code",
   "execution_count": 582,
   "id": "db4b7cc4",
   "metadata": {},
   "outputs": [],
   "source": [
    "bikes_df.insert(loc=3, column='Percipitation type', value=new_data)"
   ]
  },
  {
   "cell_type": "code",
   "execution_count": 583,
   "id": "eec1988c",
   "metadata": {},
   "outputs": [
    {
     "data": {
      "text/html": [
       "<div>\n",
       "<style scoped>\n",
       "    .dataframe tbody tr th:only-of-type {\n",
       "        vertical-align: middle;\n",
       "    }\n",
       "\n",
       "    .dataframe tbody tr th {\n",
       "        vertical-align: top;\n",
       "    }\n",
       "\n",
       "    .dataframe thead th {\n",
       "        text-align: right;\n",
       "    }\n",
       "</style>\n",
       "<table border=\"1\" class=\"dataframe\">\n",
       "  <thead>\n",
       "    <tr style=\"text-align: right;\">\n",
       "      <th></th>\n",
       "      <th>High Temp (°F)</th>\n",
       "      <th>Low Temp (°F)</th>\n",
       "      <th>Precipitation</th>\n",
       "      <th>Percipitation type</th>\n",
       "      <th>Brooklyn Bridge</th>\n",
       "      <th>Manhattan Bridge</th>\n",
       "      <th>Williamsburg Bridge</th>\n",
       "      <th>Queensboro Bridge</th>\n",
       "      <th>Total</th>\n",
       "    </tr>\n",
       "    <tr>\n",
       "      <th>Date</th>\n",
       "      <th></th>\n",
       "      <th></th>\n",
       "      <th></th>\n",
       "      <th></th>\n",
       "      <th></th>\n",
       "      <th></th>\n",
       "      <th></th>\n",
       "      <th></th>\n",
       "      <th></th>\n",
       "    </tr>\n",
       "  </thead>\n",
       "  <tbody>\n",
       "    <tr>\n",
       "      <th>2016-04-01</th>\n",
       "      <td>78.1</td>\n",
       "      <td>66.0</td>\n",
       "      <td>0.01</td>\n",
       "      <td>Rain</td>\n",
       "      <td>1704</td>\n",
       "      <td>3126</td>\n",
       "      <td>4115</td>\n",
       "      <td>2552</td>\n",
       "      <td>11497</td>\n",
       "    </tr>\n",
       "    <tr>\n",
       "      <th>2016-04-02</th>\n",
       "      <td>55.0</td>\n",
       "      <td>48.9</td>\n",
       "      <td>0.15</td>\n",
       "      <td>Rain</td>\n",
       "      <td>827</td>\n",
       "      <td>1646</td>\n",
       "      <td>2565</td>\n",
       "      <td>1884</td>\n",
       "      <td>6922</td>\n",
       "    </tr>\n",
       "    <tr>\n",
       "      <th>2016-04-03</th>\n",
       "      <td>39.9</td>\n",
       "      <td>34.0</td>\n",
       "      <td>0.09</td>\n",
       "      <td>Rain</td>\n",
       "      <td>526</td>\n",
       "      <td>1232</td>\n",
       "      <td>1695</td>\n",
       "      <td>1306</td>\n",
       "      <td>4759</td>\n",
       "    </tr>\n",
       "    <tr>\n",
       "      <th>2016-04-04</th>\n",
       "      <td>44.1</td>\n",
       "      <td>33.1</td>\n",
       "      <td>0.47</td>\n",
       "      <td>Snow</td>\n",
       "      <td>521</td>\n",
       "      <td>1067</td>\n",
       "      <td>1440</td>\n",
       "      <td>1307</td>\n",
       "      <td>4335</td>\n",
       "    </tr>\n",
       "    <tr>\n",
       "      <th>2016-04-05</th>\n",
       "      <td>42.1</td>\n",
       "      <td>26.1</td>\n",
       "      <td>0.00</td>\n",
       "      <td>Clear</td>\n",
       "      <td>1416</td>\n",
       "      <td>2617</td>\n",
       "      <td>3081</td>\n",
       "      <td>2357</td>\n",
       "      <td>9471</td>\n",
       "    </tr>\n",
       "  </tbody>\n",
       "</table>\n",
       "</div>"
      ],
      "text/plain": [
       "            High Temp (°F)  Low Temp (°F)  Precipitation Percipitation type  \\\n",
       "Date                                                                          \n",
       "2016-04-01            78.1           66.0           0.01               Rain   \n",
       "2016-04-02            55.0           48.9           0.15               Rain   \n",
       "2016-04-03            39.9           34.0           0.09               Rain   \n",
       "2016-04-04            44.1           33.1           0.47               Snow   \n",
       "2016-04-05            42.1           26.1           0.00              Clear   \n",
       "\n",
       "            Brooklyn Bridge  Manhattan Bridge  Williamsburg Bridge  \\\n",
       "Date                                                                 \n",
       "2016-04-01             1704              3126                 4115   \n",
       "2016-04-02              827              1646                 2565   \n",
       "2016-04-03              526              1232                 1695   \n",
       "2016-04-04              521              1067                 1440   \n",
       "2016-04-05             1416              2617                 3081   \n",
       "\n",
       "            Queensboro Bridge  Total  \n",
       "Date                                  \n",
       "2016-04-01               2552  11497  \n",
       "2016-04-02               1884   6922  \n",
       "2016-04-03               1306   4759  \n",
       "2016-04-04               1307   4335  \n",
       "2016-04-05               2357   9471  "
      ]
     },
     "execution_count": 583,
     "metadata": {},
     "output_type": "execute_result"
    }
   ],
   "source": [
    "bikes_df.head()"
   ]
  },
  {
   "cell_type": "code",
   "execution_count": 584,
   "id": "e1407502",
   "metadata": {},
   "outputs": [
    {
     "name": "stdout",
     "output_type": "stream",
     "text": [
      "<class 'pandas.core.frame.DataFrame'>\n",
      "DatetimeIndex: 30 entries, 2016-04-01 to 2016-04-30\n",
      "Data columns (total 9 columns):\n",
      " #   Column               Non-Null Count  Dtype  \n",
      "---  ------               --------------  -----  \n",
      " 0   High Temp (°F)       30 non-null     float64\n",
      " 1   Low Temp (°F)        30 non-null     float64\n",
      " 2   Precipitation        30 non-null     float64\n",
      " 3   Percipitation type   30 non-null     object \n",
      " 4   Brooklyn Bridge      30 non-null     int64  \n",
      " 5   Manhattan Bridge     30 non-null     int64  \n",
      " 6   Williamsburg Bridge  30 non-null     int64  \n",
      " 7   Queensboro Bridge    30 non-null     int64  \n",
      " 8   Total                30 non-null     int64  \n",
      "dtypes: float64(3), int64(5), object(1)\n",
      "memory usage: 2.3+ KB\n"
     ]
    }
   ],
   "source": [
    "bikes_df.info()"
   ]
  },
  {
   "cell_type": "markdown",
   "id": "c2fb4d27",
   "metadata": {},
   "source": [
    "Za pomocą 'get dummies' zmienię kolumne z danymi typu 'object', na kolumny kategerialne z danymi w postaci 'int'."
   ]
  },
  {
   "cell_type": "code",
   "execution_count": 585,
   "id": "14890056",
   "metadata": {},
   "outputs": [],
   "source": [
    "categorical_columns_ls = bikes_df.select_dtypes(\n",
    "    [\"object\", \"category\"]\n",
    ").columns.to_list()\n",
    "\n",
    "bikes_df = pd.get_dummies(\n",
    "    data=bikes_df,\n",
    "    prefix_sep=\"_\",\n",
    "    columns=categorical_columns_ls,\n",
    "    drop_first=True,\n",
    "    dtype=\"int8\",\n",
    ")"
   ]
  },
  {
   "cell_type": "code",
   "execution_count": 586,
   "id": "76ca55e3",
   "metadata": {},
   "outputs": [
    {
     "name": "stdout",
     "output_type": "stream",
     "text": [
      "<class 'pandas.core.frame.DataFrame'>\n",
      "DatetimeIndex: 30 entries, 2016-04-01 to 2016-04-30\n",
      "Data columns (total 11 columns):\n",
      " #   Column                    Non-Null Count  Dtype  \n",
      "---  ------                    --------------  -----  \n",
      " 0   High Temp (°F)            30 non-null     float64\n",
      " 1   Low Temp (°F)             30 non-null     float64\n",
      " 2   Precipitation             30 non-null     float64\n",
      " 3   Brooklyn Bridge           30 non-null     int64  \n",
      " 4   Manhattan Bridge          30 non-null     int64  \n",
      " 5   Williamsburg Bridge       30 non-null     int64  \n",
      " 6   Queensboro Bridge         30 non-null     int64  \n",
      " 7   Total                     30 non-null     int64  \n",
      " 8   Percipitation type_Rain   30 non-null     int8   \n",
      " 9   Percipitation type_Snow   30 non-null     int8   \n",
      " 10  Percipitation type_Trace  30 non-null     int8   \n",
      "dtypes: float64(3), int64(5), int8(3)\n",
      "memory usage: 2.2 KB\n"
     ]
    }
   ],
   "source": [
    "bikes_df.info()"
   ]
  },
  {
   "cell_type": "code",
   "execution_count": 587,
   "id": "2d836248",
   "metadata": {},
   "outputs": [
    {
     "data": {
      "text/html": [
       "<div>\n",
       "<style scoped>\n",
       "    .dataframe tbody tr th:only-of-type {\n",
       "        vertical-align: middle;\n",
       "    }\n",
       "\n",
       "    .dataframe tbody tr th {\n",
       "        vertical-align: top;\n",
       "    }\n",
       "\n",
       "    .dataframe thead th {\n",
       "        text-align: right;\n",
       "    }\n",
       "</style>\n",
       "<table border=\"1\" class=\"dataframe\">\n",
       "  <thead>\n",
       "    <tr style=\"text-align: right;\">\n",
       "      <th></th>\n",
       "      <th>High Temp (°F)</th>\n",
       "      <th>Low Temp (°F)</th>\n",
       "      <th>Precipitation</th>\n",
       "      <th>Brooklyn Bridge</th>\n",
       "      <th>Manhattan Bridge</th>\n",
       "      <th>Williamsburg Bridge</th>\n",
       "      <th>Queensboro Bridge</th>\n",
       "      <th>Total</th>\n",
       "      <th>Percipitation type_Rain</th>\n",
       "      <th>Percipitation type_Snow</th>\n",
       "      <th>Percipitation type_Trace</th>\n",
       "    </tr>\n",
       "    <tr>\n",
       "      <th>Date</th>\n",
       "      <th></th>\n",
       "      <th></th>\n",
       "      <th></th>\n",
       "      <th></th>\n",
       "      <th></th>\n",
       "      <th></th>\n",
       "      <th></th>\n",
       "      <th></th>\n",
       "      <th></th>\n",
       "      <th></th>\n",
       "      <th></th>\n",
       "    </tr>\n",
       "  </thead>\n",
       "  <tbody>\n",
       "    <tr>\n",
       "      <th>2016-04-01</th>\n",
       "      <td>78.1</td>\n",
       "      <td>66.0</td>\n",
       "      <td>0.01</td>\n",
       "      <td>1704</td>\n",
       "      <td>3126</td>\n",
       "      <td>4115</td>\n",
       "      <td>2552</td>\n",
       "      <td>11497</td>\n",
       "      <td>1</td>\n",
       "      <td>0</td>\n",
       "      <td>0</td>\n",
       "    </tr>\n",
       "    <tr>\n",
       "      <th>2016-04-02</th>\n",
       "      <td>55.0</td>\n",
       "      <td>48.9</td>\n",
       "      <td>0.15</td>\n",
       "      <td>827</td>\n",
       "      <td>1646</td>\n",
       "      <td>2565</td>\n",
       "      <td>1884</td>\n",
       "      <td>6922</td>\n",
       "      <td>1</td>\n",
       "      <td>0</td>\n",
       "      <td>0</td>\n",
       "    </tr>\n",
       "    <tr>\n",
       "      <th>2016-04-03</th>\n",
       "      <td>39.9</td>\n",
       "      <td>34.0</td>\n",
       "      <td>0.09</td>\n",
       "      <td>526</td>\n",
       "      <td>1232</td>\n",
       "      <td>1695</td>\n",
       "      <td>1306</td>\n",
       "      <td>4759</td>\n",
       "      <td>1</td>\n",
       "      <td>0</td>\n",
       "      <td>0</td>\n",
       "    </tr>\n",
       "    <tr>\n",
       "      <th>2016-04-04</th>\n",
       "      <td>44.1</td>\n",
       "      <td>33.1</td>\n",
       "      <td>0.47</td>\n",
       "      <td>521</td>\n",
       "      <td>1067</td>\n",
       "      <td>1440</td>\n",
       "      <td>1307</td>\n",
       "      <td>4335</td>\n",
       "      <td>0</td>\n",
       "      <td>1</td>\n",
       "      <td>0</td>\n",
       "    </tr>\n",
       "    <tr>\n",
       "      <th>2016-04-05</th>\n",
       "      <td>42.1</td>\n",
       "      <td>26.1</td>\n",
       "      <td>0.00</td>\n",
       "      <td>1416</td>\n",
       "      <td>2617</td>\n",
       "      <td>3081</td>\n",
       "      <td>2357</td>\n",
       "      <td>9471</td>\n",
       "      <td>0</td>\n",
       "      <td>0</td>\n",
       "      <td>0</td>\n",
       "    </tr>\n",
       "  </tbody>\n",
       "</table>\n",
       "</div>"
      ],
      "text/plain": [
       "            High Temp (°F)  Low Temp (°F)  Precipitation  Brooklyn Bridge  \\\n",
       "Date                                                                        \n",
       "2016-04-01            78.1           66.0           0.01             1704   \n",
       "2016-04-02            55.0           48.9           0.15              827   \n",
       "2016-04-03            39.9           34.0           0.09              526   \n",
       "2016-04-04            44.1           33.1           0.47              521   \n",
       "2016-04-05            42.1           26.1           0.00             1416   \n",
       "\n",
       "            Manhattan Bridge  Williamsburg Bridge  Queensboro Bridge  Total  \\\n",
       "Date                                                                          \n",
       "2016-04-01              3126                 4115               2552  11497   \n",
       "2016-04-02              1646                 2565               1884   6922   \n",
       "2016-04-03              1232                 1695               1306   4759   \n",
       "2016-04-04              1067                 1440               1307   4335   \n",
       "2016-04-05              2617                 3081               2357   9471   \n",
       "\n",
       "            Percipitation type_Rain  Percipitation type_Snow  \\\n",
       "Date                                                           \n",
       "2016-04-01                        1                        0   \n",
       "2016-04-02                        1                        0   \n",
       "2016-04-03                        1                        0   \n",
       "2016-04-04                        0                        1   \n",
       "2016-04-05                        0                        0   \n",
       "\n",
       "            Percipitation type_Trace  \n",
       "Date                                  \n",
       "2016-04-01                         0  \n",
       "2016-04-02                         0  \n",
       "2016-04-03                         0  \n",
       "2016-04-04                         0  \n",
       "2016-04-05                         0  "
      ]
     },
     "execution_count": 587,
     "metadata": {},
     "output_type": "execute_result"
    }
   ],
   "source": [
    "bikes_df.head()"
   ]
  },
  {
   "cell_type": "markdown",
   "id": "5c582c08",
   "metadata": {},
   "source": [
    "Dzielę dane na zbiór treningowy i testowy."
   ]
  },
  {
   "cell_type": "code",
   "execution_count": 588,
   "id": "f0a411c6",
   "metadata": {},
   "outputs": [
    {
     "name": "stdout",
     "output_type": "stream",
     "text": [
      "X_train shape=  (24, 10)\n",
      "X_test shape=  (6, 10)\n",
      "y_train shape=  (24,)\n",
      "y_train shape=  (6,)\n"
     ]
    }
   ],
   "source": [
    "from sklearn.model_selection import train_test_split\n",
    "\n",
    "X = bikes_df.drop(\"Total\", axis=1)\n",
    "y = bikes_df[\"Total\"]\n",
    "X_train, X_test, y_train, y_test = train_test_split(\n",
    "    X, y, test_size=0.2, random_state=42\n",
    ")\n",
    "print(\"X_train shape= \", X_train.shape)\n",
    "print(\"X_test shape= \", X_test.shape)\n",
    "print(\"y_train shape= \", y_train.shape)\n",
    "print(\"y_train shape= \", y_test.shape)\n",
    "X_train.reset_index(inplace=True, drop=True)\n",
    "X_test.reset_index(inplace=True, drop=True)\n",
    "y_train.reset_index(inplace=True, drop=True)\n",
    "y_test.reset_index(inplace=True, drop=True)"
   ]
  },
  {
   "cell_type": "markdown",
   "id": "eda261ef",
   "metadata": {},
   "source": [
    "Sprawdzam korelacje między kolumnami."
   ]
  },
  {
   "cell_type": "code",
   "execution_count": 589,
   "id": "d9ddbe6f",
   "metadata": {},
   "outputs": [
    {
     "data": {
      "text/html": [
       "<div>\n",
       "<style scoped>\n",
       "    .dataframe tbody tr th:only-of-type {\n",
       "        vertical-align: middle;\n",
       "    }\n",
       "\n",
       "    .dataframe tbody tr th {\n",
       "        vertical-align: top;\n",
       "    }\n",
       "\n",
       "    .dataframe thead th {\n",
       "        text-align: right;\n",
       "    }\n",
       "</style>\n",
       "<table border=\"1\" class=\"dataframe\">\n",
       "  <thead>\n",
       "    <tr style=\"text-align: right;\">\n",
       "      <th></th>\n",
       "      <th>High Temp (°F)</th>\n",
       "      <th>Low Temp (°F)</th>\n",
       "      <th>Precipitation</th>\n",
       "      <th>Brooklyn Bridge</th>\n",
       "      <th>Manhattan Bridge</th>\n",
       "      <th>Williamsburg Bridge</th>\n",
       "      <th>Queensboro Bridge</th>\n",
       "      <th>Percipitation type_Rain</th>\n",
       "      <th>Percipitation type_Snow</th>\n",
       "      <th>Percipitation type_Trace</th>\n",
       "      <th>Total</th>\n",
       "    </tr>\n",
       "  </thead>\n",
       "  <tbody>\n",
       "    <tr>\n",
       "      <th>High Temp (°F)</th>\n",
       "      <td>1.000000</td>\n",
       "      <td>0.852211</td>\n",
       "      <td>-0.354278</td>\n",
       "      <td>0.666231</td>\n",
       "      <td>0.638702</td>\n",
       "      <td>0.705424</td>\n",
       "      <td>0.649919</td>\n",
       "      <td>-0.173940</td>\n",
       "      <td>-0.318222</td>\n",
       "      <td>0.340503</td>\n",
       "      <td>0.670889</td>\n",
       "    </tr>\n",
       "    <tr>\n",
       "      <th>Low Temp (°F)</th>\n",
       "      <td>0.852211</td>\n",
       "      <td>1.000000</td>\n",
       "      <td>-0.192898</td>\n",
       "      <td>0.403560</td>\n",
       "      <td>0.396921</td>\n",
       "      <td>0.484032</td>\n",
       "      <td>0.412456</td>\n",
       "      <td>0.178000</td>\n",
       "      <td>-0.295526</td>\n",
       "      <td>0.335258</td>\n",
       "      <td>0.431701</td>\n",
       "    </tr>\n",
       "    <tr>\n",
       "      <th>Precipitation</th>\n",
       "      <td>-0.354278</td>\n",
       "      <td>-0.192898</td>\n",
       "      <td>1.000000</td>\n",
       "      <td>-0.644985</td>\n",
       "      <td>-0.642891</td>\n",
       "      <td>-0.619181</td>\n",
       "      <td>-0.638132</td>\n",
       "      <td>0.300181</td>\n",
       "      <td>0.768841</td>\n",
       "      <td>-0.116111</td>\n",
       "      <td>-0.637902</td>\n",
       "    </tr>\n",
       "    <tr>\n",
       "      <th>Brooklyn Bridge</th>\n",
       "      <td>0.666231</td>\n",
       "      <td>0.403560</td>\n",
       "      <td>-0.644985</td>\n",
       "      <td>1.000000</td>\n",
       "      <td>0.979963</td>\n",
       "      <td>0.979863</td>\n",
       "      <td>0.978252</td>\n",
       "      <td>-0.613488</td>\n",
       "      <td>-0.381563</td>\n",
       "      <td>0.152290</td>\n",
       "      <td>0.988200</td>\n",
       "    </tr>\n",
       "    <tr>\n",
       "      <th>Manhattan Bridge</th>\n",
       "      <td>0.638702</td>\n",
       "      <td>0.396921</td>\n",
       "      <td>-0.642891</td>\n",
       "      <td>0.979963</td>\n",
       "      <td>1.000000</td>\n",
       "      <td>0.990439</td>\n",
       "      <td>0.990016</td>\n",
       "      <td>-0.605023</td>\n",
       "      <td>-0.378647</td>\n",
       "      <td>0.102327</td>\n",
       "      <td>0.996572</td>\n",
       "    </tr>\n",
       "    <tr>\n",
       "      <th>Williamsburg Bridge</th>\n",
       "      <td>0.705424</td>\n",
       "      <td>0.484032</td>\n",
       "      <td>-0.619181</td>\n",
       "      <td>0.979863</td>\n",
       "      <td>0.990439</td>\n",
       "      <td>1.000000</td>\n",
       "      <td>0.989758</td>\n",
       "      <td>-0.551004</td>\n",
       "      <td>-0.404070</td>\n",
       "      <td>0.139925</td>\n",
       "      <td>0.996711</td>\n",
       "    </tr>\n",
       "    <tr>\n",
       "      <th>Queensboro Bridge</th>\n",
       "      <td>0.649919</td>\n",
       "      <td>0.412456</td>\n",
       "      <td>-0.638132</td>\n",
       "      <td>0.978252</td>\n",
       "      <td>0.990016</td>\n",
       "      <td>0.989758</td>\n",
       "      <td>1.000000</td>\n",
       "      <td>-0.573091</td>\n",
       "      <td>-0.395764</td>\n",
       "      <td>0.100245</td>\n",
       "      <td>0.994967</td>\n",
       "    </tr>\n",
       "    <tr>\n",
       "      <th>Percipitation type_Rain</th>\n",
       "      <td>-0.173940</td>\n",
       "      <td>0.178000</td>\n",
       "      <td>0.300181</td>\n",
       "      <td>-0.613488</td>\n",
       "      <td>-0.605023</td>\n",
       "      <td>-0.551004</td>\n",
       "      <td>-0.573091</td>\n",
       "      <td>1.000000</td>\n",
       "      <td>-0.176227</td>\n",
       "      <td>-0.176227</td>\n",
       "      <td>-0.585690</td>\n",
       "    </tr>\n",
       "    <tr>\n",
       "      <th>Percipitation type_Snow</th>\n",
       "      <td>-0.318222</td>\n",
       "      <td>-0.295526</td>\n",
       "      <td>0.768841</td>\n",
       "      <td>-0.381563</td>\n",
       "      <td>-0.378647</td>\n",
       "      <td>-0.404070</td>\n",
       "      <td>-0.395764</td>\n",
       "      <td>-0.176227</td>\n",
       "      <td>1.000000</td>\n",
       "      <td>-0.043478</td>\n",
       "      <td>-0.392812</td>\n",
       "    </tr>\n",
       "    <tr>\n",
       "      <th>Percipitation type_Trace</th>\n",
       "      <td>0.340503</td>\n",
       "      <td>0.335258</td>\n",
       "      <td>-0.116111</td>\n",
       "      <td>0.152290</td>\n",
       "      <td>0.102327</td>\n",
       "      <td>0.139925</td>\n",
       "      <td>0.100245</td>\n",
       "      <td>-0.176227</td>\n",
       "      <td>-0.043478</td>\n",
       "      <td>1.000000</td>\n",
       "      <td>0.123529</td>\n",
       "    </tr>\n",
       "    <tr>\n",
       "      <th>Total</th>\n",
       "      <td>0.670889</td>\n",
       "      <td>0.431701</td>\n",
       "      <td>-0.637902</td>\n",
       "      <td>0.988200</td>\n",
       "      <td>0.996572</td>\n",
       "      <td>0.996711</td>\n",
       "      <td>0.994967</td>\n",
       "      <td>-0.585690</td>\n",
       "      <td>-0.392812</td>\n",
       "      <td>0.123529</td>\n",
       "      <td>1.000000</td>\n",
       "    </tr>\n",
       "  </tbody>\n",
       "</table>\n",
       "</div>"
      ],
      "text/plain": [
       "                          High Temp (°F)  Low Temp (°F)  Precipitation  \\\n",
       "High Temp (°F)                  1.000000       0.852211      -0.354278   \n",
       "Low Temp (°F)                   0.852211       1.000000      -0.192898   \n",
       "Precipitation                  -0.354278      -0.192898       1.000000   \n",
       "Brooklyn Bridge                 0.666231       0.403560      -0.644985   \n",
       "Manhattan Bridge                0.638702       0.396921      -0.642891   \n",
       "Williamsburg Bridge             0.705424       0.484032      -0.619181   \n",
       "Queensboro Bridge               0.649919       0.412456      -0.638132   \n",
       "Percipitation type_Rain        -0.173940       0.178000       0.300181   \n",
       "Percipitation type_Snow        -0.318222      -0.295526       0.768841   \n",
       "Percipitation type_Trace        0.340503       0.335258      -0.116111   \n",
       "Total                           0.670889       0.431701      -0.637902   \n",
       "\n",
       "                          Brooklyn Bridge  Manhattan Bridge  \\\n",
       "High Temp (°F)                   0.666231          0.638702   \n",
       "Low Temp (°F)                    0.403560          0.396921   \n",
       "Precipitation                   -0.644985         -0.642891   \n",
       "Brooklyn Bridge                  1.000000          0.979963   \n",
       "Manhattan Bridge                 0.979963          1.000000   \n",
       "Williamsburg Bridge              0.979863          0.990439   \n",
       "Queensboro Bridge                0.978252          0.990016   \n",
       "Percipitation type_Rain         -0.613488         -0.605023   \n",
       "Percipitation type_Snow         -0.381563         -0.378647   \n",
       "Percipitation type_Trace         0.152290          0.102327   \n",
       "Total                            0.988200          0.996572   \n",
       "\n",
       "                          Williamsburg Bridge  Queensboro Bridge  \\\n",
       "High Temp (°F)                       0.705424           0.649919   \n",
       "Low Temp (°F)                        0.484032           0.412456   \n",
       "Precipitation                       -0.619181          -0.638132   \n",
       "Brooklyn Bridge                      0.979863           0.978252   \n",
       "Manhattan Bridge                     0.990439           0.990016   \n",
       "Williamsburg Bridge                  1.000000           0.989758   \n",
       "Queensboro Bridge                    0.989758           1.000000   \n",
       "Percipitation type_Rain             -0.551004          -0.573091   \n",
       "Percipitation type_Snow             -0.404070          -0.395764   \n",
       "Percipitation type_Trace             0.139925           0.100245   \n",
       "Total                                0.996711           0.994967   \n",
       "\n",
       "                          Percipitation type_Rain  Percipitation type_Snow  \\\n",
       "High Temp (°F)                          -0.173940                -0.318222   \n",
       "Low Temp (°F)                            0.178000                -0.295526   \n",
       "Precipitation                            0.300181                 0.768841   \n",
       "Brooklyn Bridge                         -0.613488                -0.381563   \n",
       "Manhattan Bridge                        -0.605023                -0.378647   \n",
       "Williamsburg Bridge                     -0.551004                -0.404070   \n",
       "Queensboro Bridge                       -0.573091                -0.395764   \n",
       "Percipitation type_Rain                  1.000000                -0.176227   \n",
       "Percipitation type_Snow                 -0.176227                 1.000000   \n",
       "Percipitation type_Trace                -0.176227                -0.043478   \n",
       "Total                                   -0.585690                -0.392812   \n",
       "\n",
       "                          Percipitation type_Trace     Total  \n",
       "High Temp (°F)                            0.340503  0.670889  \n",
       "Low Temp (°F)                             0.335258  0.431701  \n",
       "Precipitation                            -0.116111 -0.637902  \n",
       "Brooklyn Bridge                           0.152290  0.988200  \n",
       "Manhattan Bridge                          0.102327  0.996572  \n",
       "Williamsburg Bridge                       0.139925  0.996711  \n",
       "Queensboro Bridge                         0.100245  0.994967  \n",
       "Percipitation type_Rain                  -0.176227 -0.585690  \n",
       "Percipitation type_Snow                  -0.043478 -0.392812  \n",
       "Percipitation type_Trace                  1.000000  0.123529  \n",
       "Total                                     0.123529  1.000000  "
      ]
     },
     "execution_count": 589,
     "metadata": {},
     "output_type": "execute_result"
    }
   ],
   "source": [
    "X_train.join(y_train).corr()"
   ]
  },
  {
   "cell_type": "code",
   "execution_count": 590,
   "id": "142f2ee3",
   "metadata": {},
   "outputs": [
    {
     "data": {
      "text/plain": [
       "<AxesSubplot:>"
      ]
     },
     "execution_count": 590,
     "metadata": {},
     "output_type": "execute_result"
    },
    {
     "data": {
      "image/png": "[encoded data removed]",
      "text/plain": [
       "<Figure size 1008x720 with 2 Axes>"
      ]
     },
     "metadata": {
      "needs_background": "light"
     },
     "output_type": "display_data"
    }
   ],
   "source": [
    "plt.rcParams[\"figure.figsize\"] = [14, 10]\n",
    "\n",
    "sns.heatmap(X_train.join(y_train).corr(), annot=True)"
   ]
  },
  {
   "cell_type": "markdown",
   "id": "041a866c",
   "metadata": {},
   "source": [
    "By lepiej nauczyć model usuwam silnie skorelowane kolumny."
   ]
  },
  {
   "cell_type": "code",
   "execution_count": 591,
   "id": "b38ce8cb",
   "metadata": {},
   "outputs": [],
   "source": [
    "X_train.drop(['Brooklyn Bridge', 'Manhattan Bridge','Queensboro Bridge','Low Temp (°F)'], axis=1, inplace=True)\n",
    "X_test.drop(['Brooklyn Bridge', 'Manhattan Bridge','Queensboro Bridge','Low Temp (°F)'], axis=1, inplace=True)"
   ]
  },
  {
   "cell_type": "code",
   "execution_count": 592,
   "id": "1d9aa0e1",
   "metadata": {},
   "outputs": [
    {
     "data": {
      "text/html": [
       "<div>\n",
       "<style scoped>\n",
       "    .dataframe tbody tr th:only-of-type {\n",
       "        vertical-align: middle;\n",
       "    }\n",
       "\n",
       "    .dataframe tbody tr th {\n",
       "        vertical-align: top;\n",
       "    }\n",
       "\n",
       "    .dataframe thead th {\n",
       "        text-align: right;\n",
       "    }\n",
       "</style>\n",
       "<table border=\"1\" class=\"dataframe\">\n",
       "  <thead>\n",
       "    <tr style=\"text-align: right;\">\n",
       "      <th></th>\n",
       "      <th>High Temp (°F)</th>\n",
       "      <th>Precipitation</th>\n",
       "      <th>Williamsburg Bridge</th>\n",
       "      <th>Percipitation type_Rain</th>\n",
       "      <th>Percipitation type_Snow</th>\n",
       "      <th>Percipitation type_Trace</th>\n",
       "      <th>Total</th>\n",
       "    </tr>\n",
       "  </thead>\n",
       "  <tbody>\n",
       "    <tr>\n",
       "      <th>0</th>\n",
       "      <td>57.0</td>\n",
       "      <td>0.05</td>\n",
       "      <td>5053</td>\n",
       "      <td>1</td>\n",
       "      <td>0</td>\n",
       "      <td>0</td>\n",
       "      <td>14954</td>\n",
       "    </tr>\n",
       "    <tr>\n",
       "      <th>1</th>\n",
       "      <td>66.9</td>\n",
       "      <td>0.00</td>\n",
       "      <td>6845</td>\n",
       "      <td>0</td>\n",
       "      <td>0</td>\n",
       "      <td>0</td>\n",
       "      <td>20850</td>\n",
       "    </tr>\n",
       "    <tr>\n",
       "      <th>2</th>\n",
       "      <td>57.0</td>\n",
       "      <td>0.00</td>\n",
       "      <td>5995</td>\n",
       "      <td>0</td>\n",
       "      <td>0</td>\n",
       "      <td>0</td>\n",
       "      <td>18422</td>\n",
       "    </tr>\n",
       "    <tr>\n",
       "      <th>3</th>\n",
       "      <td>78.1</td>\n",
       "      <td>0.01</td>\n",
       "      <td>4115</td>\n",
       "      <td>1</td>\n",
       "      <td>0</td>\n",
       "      <td>0</td>\n",
       "      <td>11497</td>\n",
       "    </tr>\n",
       "    <tr>\n",
       "      <th>4</th>\n",
       "      <td>42.1</td>\n",
       "      <td>0.00</td>\n",
       "      <td>3081</td>\n",
       "      <td>0</td>\n",
       "      <td>0</td>\n",
       "      <td>0</td>\n",
       "      <td>9471</td>\n",
       "    </tr>\n",
       "  </tbody>\n",
       "</table>\n",
       "</div>"
      ],
      "text/plain": [
       "   High Temp (°F)  Precipitation  Williamsburg Bridge  \\\n",
       "0            57.0           0.05                 5053   \n",
       "1            66.9           0.00                 6845   \n",
       "2            57.0           0.00                 5995   \n",
       "3            78.1           0.01                 4115   \n",
       "4            42.1           0.00                 3081   \n",
       "\n",
       "   Percipitation type_Rain  Percipitation type_Snow  Percipitation type_Trace  \\\n",
       "0                        1                        0                         0   \n",
       "1                        0                        0                         0   \n",
       "2                        0                        0                         0   \n",
       "3                        1                        0                         0   \n",
       "4                        0                        0                         0   \n",
       "\n",
       "   Total  \n",
       "0  14954  \n",
       "1  20850  \n",
       "2  18422  \n",
       "3  11497  \n",
       "4   9471  "
      ]
     },
     "execution_count": 592,
     "metadata": {},
     "output_type": "execute_result"
    }
   ],
   "source": [
    "X_train.join(y_train).head()"
   ]
  },
  {
   "cell_type": "markdown",
   "id": "d5d15fcb",
   "metadata": {},
   "source": [
    "Pokazanie korelacji mmiędzy danymi na wykresach, by wybrać te które nadadzą się do modelu regresji."
   ]
  },
  {
   "cell_type": "code",
   "execution_count": 593,
   "id": "38c5e260",
   "metadata": {},
   "outputs": [
    {
     "data": {
      "text/plain": [
       "<seaborn.axisgrid.PairGrid at 0x271bfd1a7f0>"
      ]
     },
     "execution_count": 593,
     "metadata": {},
     "output_type": "execute_result"
    },
    {
     "data": {
      "image/png": "[encoded data removed]",
      "text/plain": [
       "<Figure size 2520x1260 with 56 Axes>"
      ]
     },
     "metadata": {
      "needs_background": "light"
     },
     "output_type": "display_data"
    }
   ],
   "source": [
    "sns.pairplot(X_train.join(y_train), kind=\"scatter\", aspect=2)"
   ]
  },
  {
   "cell_type": "markdown",
   "id": "c98b0d74",
   "metadata": {},
   "source": [
    "Funkcja przygotowana pod wykresy fukcji liniowej i kwadratowej"
   ]
  },
  {
   "cell_type": "code",
   "execution_count": 594,
   "id": "49225b54",
   "metadata": {},
   "outputs": [],
   "source": [
    "def polynomial_plot(feature, label):\n",
    " \n",
    "    linear_func = np.poly1d(np.polyfit(feature, label, 1))\n",
    "    \n",
    "    quadratic_func = np.poly1d(np.polyfit(feature, label, 2))\n",
    "\n",
    "  \n",
    "    values = np.linspace(feature.min(), feature.max(), len(feature))\n",
    "\n",
    "    plt.scatter(feature, label, color=\"blue\")\n",
    "    plt.plot(\n",
    "        values,\n",
    "        linear_func(values),\n",
    "        color=\"cyan\",\n",
    "        linestyle=\"dashed\",\n",
    "        label=\"Linear Function\",\n",
    "    )\n",
    "    plt.plot(values, quadratic_func(values), color=\"red\", label=\"Quadratic Function\")\n",
    "    plt.xlabel(\"%s From Train Data\" % (feature.name))\n",
    "    plt.ylabel(\"Total\")\n",
    "    plt.legend()\n",
    "    plt.title(\"Linear Vs Quadratic Function For Feature %s\" % (feature.name))\n",
    "    plt.show()"
   ]
  },
  {
   "cell_type": "code",
   "execution_count": 595,
   "id": "499f118f",
   "metadata": {},
   "outputs": [
    {
     "data": {
      "image/png": "[encoded data removed]",
      "text/plain": [
       "<Figure size 1008x720 with 1 Axes>"
      ]
     },
     "metadata": {
      "needs_background": "light"
     },
     "output_type": "display_data"
    }
   ],
   "source": [
    "polynomial_plot(X_train['High Temp (°F)'], y_train)"
   ]
  },
  {
   "cell_type": "markdown",
   "id": "08210453",
   "metadata": {},
   "source": [
    "Jak widać wykres, sumy przejazdów od temperatury nie jest dobrze opisany za pomocą funkcji liniowej czy kwadratowej. Dużo lepiej to wygląda, gdy zamiast temperatury, weźmniemy przejazdy przez most Williamsburg."
   ]
  },
  {
   "cell_type": "code",
   "execution_count": 596,
   "id": "157b1fa2",
   "metadata": {},
   "outputs": [
    {
     "data": {
      "image/png": "[encoded data removed]",
      "text/plain": [
       "<Figure size 1008x720 with 1 Axes>"
      ]
     },
     "metadata": {
      "needs_background": "light"
     },
     "output_type": "display_data"
    }
   ],
   "source": [
    "polynomial_plot(X_train['Williamsburg Bridge'], y_train)"
   ]
  },
  {
   "cell_type": "markdown",
   "id": "a47c18e4",
   "metadata": {},
   "source": [
    "Za pomocą PolunomialFeatures transformuję dane do postaci wielomianowej."
   ]
  },
  {
   "cell_type": "code",
   "execution_count": 597,
   "id": "a525e72a",
   "metadata": {},
   "outputs": [
    {
     "data": {
      "text/plain": [
       "Index(['1', 'High Temp (°F)', 'Precipitation', 'High Temp (°F)^2',\n",
       "       'High Temp (°F) Precipitation', 'Precipitation^2'],\n",
       "      dtype='object')"
      ]
     },
     "execution_count": 597,
     "metadata": {},
     "output_type": "execute_result"
    }
   ],
   "source": [
    "continous_features_ls = X_train.select_dtypes(\"float64\").columns.to_list()\n",
    "\n",
    "poly = PolynomialFeatures(degree=2)\n",
    "X_cont_poly_train = poly.fit_transform(X_train[continous_features_ls])\n",
    "X_cont_poly_train = pd.DataFrame(\n",
    "    X_cont_poly_train, columns=poly.get_feature_names_out(X_train[continous_features_ls].columns)\n",
    ")\n",
    "X_cont_poly_train.columns"
   ]
  },
  {
   "cell_type": "code",
   "execution_count": 598,
   "id": "ec99c124",
   "metadata": {},
   "outputs": [
    {
     "data": {
      "text/plain": [
       "(24, 6)"
      ]
     },
     "execution_count": 598,
     "metadata": {},
     "output_type": "execute_result"
    }
   ],
   "source": [
    "X_cont_poly_train.shape"
   ]
  },
  {
   "cell_type": "code",
   "execution_count": 599,
   "id": "1aa88d50",
   "metadata": {},
   "outputs": [
    {
     "data": {
      "text/plain": [
       "(24, 6)"
      ]
     },
     "execution_count": 599,
     "metadata": {},
     "output_type": "execute_result"
    }
   ],
   "source": [
    "X_train.shape"
   ]
  },
  {
   "cell_type": "code",
   "execution_count": 600,
   "id": "017859d0",
   "metadata": {},
   "outputs": [
    {
     "data": {
      "text/html": [
       "<div>\n",
       "<style scoped>\n",
       "    .dataframe tbody tr th:only-of-type {\n",
       "        vertical-align: middle;\n",
       "    }\n",
       "\n",
       "    .dataframe tbody tr th {\n",
       "        vertical-align: top;\n",
       "    }\n",
       "\n",
       "    .dataframe thead th {\n",
       "        text-align: right;\n",
       "    }\n",
       "</style>\n",
       "<table border=\"1\" class=\"dataframe\">\n",
       "  <thead>\n",
       "    <tr style=\"text-align: right;\">\n",
       "      <th></th>\n",
       "      <th>1</th>\n",
       "      <th>High Temp (°F)</th>\n",
       "      <th>Precipitation</th>\n",
       "      <th>High Temp (°F)^2</th>\n",
       "      <th>High Temp (°F) Precipitation</th>\n",
       "      <th>Precipitation^2</th>\n",
       "    </tr>\n",
       "  </thead>\n",
       "  <tbody>\n",
       "    <tr>\n",
       "      <th>0</th>\n",
       "      <td>1.0</td>\n",
       "      <td>57.9</td>\n",
       "      <td>0.00</td>\n",
       "      <td>3352.41</td>\n",
       "      <td>0.00</td>\n",
       "      <td>0.0000</td>\n",
       "    </tr>\n",
       "    <tr>\n",
       "      <th>1</th>\n",
       "      <td>1.0</td>\n",
       "      <td>66.0</td>\n",
       "      <td>0.00</td>\n",
       "      <td>4356.00</td>\n",
       "      <td>0.00</td>\n",
       "      <td>0.0000</td>\n",
       "    </tr>\n",
       "    <tr>\n",
       "      <th>2</th>\n",
       "      <td>1.0</td>\n",
       "      <td>68.0</td>\n",
       "      <td>0.00</td>\n",
       "      <td>4624.00</td>\n",
       "      <td>0.00</td>\n",
       "      <td>0.0000</td>\n",
       "    </tr>\n",
       "    <tr>\n",
       "      <th>3</th>\n",
       "      <td>1.0</td>\n",
       "      <td>81.0</td>\n",
       "      <td>0.00</td>\n",
       "      <td>6561.00</td>\n",
       "      <td>0.00</td>\n",
       "      <td>0.0000</td>\n",
       "    </tr>\n",
       "    <tr>\n",
       "      <th>4</th>\n",
       "      <td>1.0</td>\n",
       "      <td>43.0</td>\n",
       "      <td>0.09</td>\n",
       "      <td>1849.00</td>\n",
       "      <td>3.87</td>\n",
       "      <td>0.0081</td>\n",
       "    </tr>\n",
       "    <tr>\n",
       "      <th>5</th>\n",
       "      <td>1.0</td>\n",
       "      <td>48.9</td>\n",
       "      <td>0.00</td>\n",
       "      <td>2391.21</td>\n",
       "      <td>0.00</td>\n",
       "      <td>0.0000</td>\n",
       "    </tr>\n",
       "  </tbody>\n",
       "</table>\n",
       "</div>"
      ],
      "text/plain": [
       "     1  High Temp (°F)  Precipitation  High Temp (°F)^2  \\\n",
       "0  1.0            57.9           0.00           3352.41   \n",
       "1  1.0            66.0           0.00           4356.00   \n",
       "2  1.0            68.0           0.00           4624.00   \n",
       "3  1.0            81.0           0.00           6561.00   \n",
       "4  1.0            43.0           0.09           1849.00   \n",
       "5  1.0            48.9           0.00           2391.21   \n",
       "\n",
       "   High Temp (°F) Precipitation  Precipitation^2  \n",
       "0                          0.00           0.0000  \n",
       "1                          0.00           0.0000  \n",
       "2                          0.00           0.0000  \n",
       "3                          0.00           0.0000  \n",
       "4                          3.87           0.0081  \n",
       "5                          0.00           0.0000  "
      ]
     },
     "execution_count": 600,
     "metadata": {},
     "output_type": "execute_result"
    }
   ],
   "source": [
    "X_cont_poly_test = poly.transform(X_test[continous_features_ls])\n",
    "X_cont_poly_test = pd.DataFrame(\n",
    "    X_cont_poly_test,\n",
    "    columns=poly.get_feature_names_out(X_test[continous_features_ls].columns),\n",
    ")\n",
    "X_poly_test = pd.concat(\n",
    "    [\n",
    "        X_test.select_dtypes(\"uint8\").reset_index(drop=True),\n",
    "        X_cont_poly_test.reset_index(drop=True),\n",
    "    ],\n",
    "    axis=1,\n",
    ")\n",
    "X_poly_test"
   ]
  },
  {
   "cell_type": "markdown",
   "id": "e505fe3a",
   "metadata": {},
   "source": [
    "Tworze instancję modely regresji i trenuję go."
   ]
  },
  {
   "cell_type": "code",
   "execution_count": 601,
   "id": "97c719d2",
   "metadata": {},
   "outputs": [
    {
     "data": {
      "text/plain": [
       "LinearRegression()"
      ]
     },
     "execution_count": 601,
     "metadata": {},
     "output_type": "execute_result"
    }
   ],
   "source": [
    "lm_poly_2deg = LinearRegression() \n",
    "lm_poly_2deg.fit(X_poly_train, y_train) "
   ]
  },
  {
   "cell_type": "code",
   "execution_count": 602,
   "id": "5a92d001",
   "metadata": {},
   "outputs": [],
   "source": [
    "train_pred = lm_poly_2deg.predict(X_poly_train)"
   ]
  },
  {
   "cell_type": "code",
   "execution_count": 603,
   "id": "6282fdca",
   "metadata": {},
   "outputs": [],
   "source": [
    "test_pred = lm_poly_2deg.predict(X_poly_test)"
   ]
  },
  {
   "cell_type": "markdown",
   "id": "86c23863",
   "metadata": {},
   "source": [
    "Wykorzystanie współczynników za pomocą, których można ocenić na ile dobra jest regresja."
   ]
  },
  {
   "cell_type": "code",
   "execution_count": 604,
   "id": "8ae5acf9",
   "metadata": {},
   "outputs": [],
   "source": [
    "def regression_results(y_true, y_pred):\n",
    "\n",
    "    explained_variance = metrics.explained_variance_score(y_true, y_pred)\n",
    "    mean_absolute_error = metrics.mean_absolute_error(y_true, y_pred)\n",
    "    mse = metrics.mean_squared_error(y_true, y_pred)\n",
    "    median_absolute_error = metrics.median_absolute_error(y_true, y_pred)\n",
    "    r2 = metrics.r2_score(y_true, y_pred)\n",
    "    print(\"explained_variance: \", round(explained_variance, 4))\n",
    "    print(\"R^2: \", round(r2, 4))\n",
    "    print(\"MAE: \", round(mean_absolute_error, 4))\n",
    "    print(\"MSE: \", round(mse, 4))\n",
    "    print(\"RMSE: \", round(np.sqrt(mse), 4))"
   ]
  },
  {
   "cell_type": "code",
   "execution_count": 605,
   "id": "28e4eb4c",
   "metadata": {},
   "outputs": [
    {
     "name": "stdout",
     "output_type": "stream",
     "text": [
      "explained_variance:  0.8112\n",
      "R^2:  0.8112\n",
      "MAE:  1803.1624\n",
      "MSE:  5612766.9353\n",
      "RMSE:  2369.1279\n"
     ]
    }
   ],
   "source": [
    "regression_results(y_train, train_pred)"
   ]
  },
  {
   "cell_type": "code",
   "execution_count": 606,
   "id": "01bcb96e",
   "metadata": {},
   "outputs": [
    {
     "name": "stdout",
     "output_type": "stream",
     "text": [
      "explained_variance:  0.5971\n",
      "R^2:  0.5673\n",
      "MAE:  3279.4448\n",
      "MSE:  15281296.297\n",
      "RMSE:  3909.1299\n"
     ]
    }
   ],
   "source": [
    "regression_results(y_test, test_pred)"
   ]
  },
  {
   "cell_type": "markdown",
   "id": "8254483b",
   "metadata": {},
   "source": [
    "Porównanie wartości na wykresie przewidzianych z tymi, ze zbioru testowego."
   ]
  },
  {
   "cell_type": "code",
   "execution_count": 607,
   "id": "430824b0",
   "metadata": {},
   "outputs": [
    {
     "data": {
      "text/plain": [
       "Text(0.5, 1.0, 'Total ze zbioru testowa Vs predykcja total na nowych danych')"
      ]
     },
     "execution_count": 607,
     "metadata": {},
     "output_type": "execute_result"
    },
    {
     "data": {
      "image/png": "[encoded data removed]",
      "text/plain": [
       "<Figure size 1008x720 with 1 Axes>"
      ]
     },
     "metadata": {
      "needs_background": "light"
     },
     "output_type": "display_data"
    }
   ],
   "source": [
    "plt.scatter(y_test, test_pred)\n",
    "plt.xlabel('Total ze zbioru testowego')\n",
    "plt.ylabel('Total przewidziana przez model')\n",
    "plt.title(\"Total ze zbioru testowa Vs predykcja total na nowych danych\")"
   ]
  },
  {
   "cell_type": "markdown",
   "id": "c0526251",
   "metadata": {},
   "source": [
    "Jak widać powyżej model na zbiorze testowym posiada współczynnik R^2 na poziomie 0,5673, co znaczy, że model wyjaśnia ok. 56,7% zmienności zmiennej y. Jest to dość słaby wynik."
   ]
  },
  {
   "cell_type": "markdown",
   "id": "4553c8dd",
   "metadata": {},
   "source": [
    "Sprawdzę czy wynik poprawi się jeżeli model regresji uzależnimy tylko od jednej cechy."
   ]
  },
  {
   "cell_type": "code",
   "execution_count": 608,
   "id": "bef0218a",
   "metadata": {},
   "outputs": [
    {
     "name": "stdout",
     "output_type": "stream",
     "text": [
      "X_train shape=  (24, 1)\n",
      "X_test shape=  (6, 1)\n",
      "y_train shape=  (24, 1)\n",
      "y_train shape=  (6, 1)\n"
     ]
    }
   ],
   "source": [
    "X = bikes_encoded_df[[\"Williamsburg Bridge\"]]\n",
    "y = bikes_encoded_df[[\"Total\"]]\n",
    "cv = KFold(n_splits = 5, shuffle = True, random_state = 42)\n",
    "for train, test in cv.split(X, y):\n",
    "    X_train, y_train = X.iloc[train], y.iloc[train]\n",
    "    X_test, y_test = X.iloc[test], y.iloc[test]\n",
    "    #print(X_train.shape, X_test.shape)\n",
    "\n",
    "\n",
    "print(\"X_train shape= \", X_train.shape)\n",
    "print(\"X_test shape= \", X_test.shape)\n",
    "print(\"y_train shape= \", y_train.shape)\n",
    "print(\"y_train shape= \", y_test.shape)\n",
    "X_train.reset_index(inplace=True, drop=True)\n",
    "X_test.reset_index(inplace=True, drop=True)\n",
    "y_train.reset_index(inplace=True, drop=True)\n",
    "y_test.reset_index(inplace=True, drop=True)"
   ]
  },
  {
   "cell_type": "code",
   "execution_count": 609,
   "id": "63d7b1a7",
   "metadata": {},
   "outputs": [
    {
     "data": {
      "text/plain": [
       "LinearRegression()"
      ]
     },
     "execution_count": 609,
     "metadata": {},
     "output_type": "execute_result"
    }
   ],
   "source": [
    "model = LinearRegression()\n",
    "model.fit(X_train, y_train)"
   ]
  },
  {
   "cell_type": "code",
   "execution_count": 610,
   "id": "9304b56f",
   "metadata": {},
   "outputs": [],
   "source": [
    "y_pred = model.predict(X)"
   ]
  },
  {
   "cell_type": "code",
   "execution_count": 611,
   "id": "5bac4c4b",
   "metadata": {},
   "outputs": [
    {
     "name": "stdout",
     "output_type": "stream",
     "text": [
      "R^2 train score:  0.9932118409821802\n"
     ]
    }
   ],
   "source": [
    "print(f\"R^2 train score:  {r2_score(y, y_pred)}\")"
   ]
  },
  {
   "cell_type": "code",
   "execution_count": 612,
   "id": "b809f2fd",
   "metadata": {},
   "outputs": [
    {
     "data": {
      "text/plain": [
       "LinearRegression()"
      ]
     },
     "execution_count": 612,
     "metadata": {},
     "output_type": "execute_result"
    }
   ],
   "source": [
    "model = LinearRegression()\n",
    "model.fit(X_test, y_test)"
   ]
  },
  {
   "cell_type": "code",
   "execution_count": 613,
   "id": "2977a10e",
   "metadata": {},
   "outputs": [],
   "source": [
    "y_pred = model.predict(X)"
   ]
  },
  {
   "cell_type": "code",
   "execution_count": 614,
   "id": "196b72e8",
   "metadata": {},
   "outputs": [
    {
     "name": "stdout",
     "output_type": "stream",
     "text": [
      "R^2 test score: 0.9908035301810437\n"
     ]
    }
   ],
   "source": [
    "print(f\"R^2 test score: {r2_score(y, y_pred)}\")"
   ]
  },
  {
   "cell_type": "markdown",
   "id": "2a060fc0",
   "metadata": {},
   "source": [
    "W tym przypadku gdy użyjemy jednej zmiennej nasz model regresji nauczył się o wiele lepiej."
   ]
  }
 ],
 "metadata": {
  "kernelspec": {
   "display_name": "Python 3 (ipykernel)",
   "language": "python",
   "name": "python3"
  },
  "language_info": {
   "codemirror_mode": {
    "name": "ipython",
    "version": 3
   },
   "file_extension": ".py",
   "mimetype": "text/x-python",
   "name": "python",
   "nbconvert_exporter": "python",
   "pygments_lexer": "ipython3",
   "version": "3.9.12"
  }
 },
 "nbformat": 4,
 "nbformat_minor": 5
}
